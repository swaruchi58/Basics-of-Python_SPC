{
 "cells": [
  {
   "cell_type": "markdown",
   "id": "2132d19e",
   "metadata": {},
   "source": [
    "Q1.Write a Python User Define Function to reverse a string\n"
   ]
  },
  {
   "cell_type": "code",
   "execution_count": 26,
   "id": "d5e5c429",
   "metadata": {},
   "outputs": [
    {
     "name": "stdout",
     "output_type": "stream",
     "text": [
      "nohtyp\n"
     ]
    }
   ],
   "source": [
    "##Solution Q1. \n",
    def reverse_string(str):  
    Rev = ""   
    for i in str:  
        Rev = i + Rev  
    return Rev    
     
    str = "Swaruchi"         
    print("The original string is: ",str)  
    print("The reverse string is",reverse_string(str))
   ]
  },
  {
   "cell_type": "markdown",
   "id": "de3f586a",
   "metadata": {},
   "source": [
    "Q1.\n",
    "Hint :If I Pass the Parameter >> \"python\" My output will be >> \"nohtyp\""
   ]
  },
  {
   "cell_type": "markdown",
   "id": "4fc2df6e",
   "metadata": {},
   "source": [
    "Q2. Write a Python min_max function which will return Min, Max of 4 inputs from the user."
   ]
  },
  {
   "cell_type": "code",
   "execution_count": null,
   "id": "f16c020b",
   "metadata": {},
   "outputs": [],
   "source": [
    "##Solution Q2. \n",
    Choice1=(int)(input("\n\t Enter your 1st number: "))
    Choice2=(int)(input("\n\t Enter your 2st number: "))
    Choice3=(int)(input("\n\t Enter your 3st number: "))
    Choice4=(int)(input("\n\t Enter your 4st number: "))
    print("Maximum number is: ",max(Choice1,Choice2,Choice3,Choice4))
    print("Minimum number is:",min(Choice1,Choice2,Choice3,Choice4))
   ]
  },
  {
   "cell_type": "markdown",
   "id": "f3e92aa7",
   "metadata": {},
   "source": [
    "Q3. Write a Python function to sum 4 inputs from the user."
   ]
  },
  {
   "cell_type": "code",
   "execution_count": null,
   "id": "34ad3d62",
   "metadata": {},
   "outputs": [],
   "source": [
    "##Solution Q3. \n",
   Choice1=(int)(input("\n\t Enter your 1st number: "))
   Choice2=(int)(input("\n\t Enter your 2st number: "))
   Choice3=(int)(input("\n\t Enter your 3st number: "))
   Choice4=(int)(input("\n\t Enter your 4st number: "))
   Choice=[Choice1,Choice2,Choice3,Choice4]
   print("Addition of number is: ",sum(Choice))
   ]
  },
  {
   "cell_type": "markdown",
   "id": "213d9d56",
   "metadata": {},
   "source": [
    "#Q4. Find out the Command which will return you number of local variables from the user define function."
   ]
  },
  {
   "cell_type": "code",
   "execution_count": null,
   "id": "e5ba129a",
   "metadata": {},
   "outputs": [],
   "source": [
    "##Solution Q4. \n",
   def P1():
    P=12
    Q="Swaruchi"
    R=14+13
    print(P1._code_.co_nlocals)
   ]
  },
  {
   "cell_type": "markdown",
   "id": "f9f56519",
   "metadata": {},
   "source": [
    "Q5.Write Python Function to get even number from the list. \n",
    "List len must be equal to 8."
   ]
  },
  {
   "cell_type": "code",
   "execution_count": null,
   "id": "d09e9003",
   "metadata": {},
   "outputs": [],
   "source": [
    "##Solution Q5. \n",
   Even=[25,46,85,35,46,26,34]

   for Num in Even:
    if Num %2==0:
        print(Num)
   ]
  },
  {
   "cell_type": "code",
   "execution_count": null,
   "id": "d2ff2fe0",
   "metadata": {},
   "outputs": [],
   "source": []
  }
 ],
 "metadata": {
  "kernelspec": {
   "display_name": "Python 3 (ipykernel)",
   "language": "python",
   "name": "python3"
  },
  "language_info": {
   "codemirror_mode": {
    "name": "ipython",
    "version": 3
   },
   "file_extension": ".py",
   "mimetype": "text/x-python",
   "name": "python",
   "nbconvert_exporter": "python",
   "pygments_lexer": "ipython3",
   "version": "3.8.8"
  }
 },
 "nbformat": 4,
 "nbformat_minor": 5
}
